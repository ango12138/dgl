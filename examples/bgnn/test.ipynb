{
 "cells": [
  {
   "cell_type": "code",
   "execution_count": 62,
   "id": "center-headquarters",
   "metadata": {
    "ExecuteTime": {
     "end_time": "2021-03-11T11:17:42.302678Z",
     "start_time": "2021-03-11T11:17:42.299254Z"
    }
   },
   "outputs": [],
   "source": [
    "import torch\n",
    "from dgl.nn.pytorch import GATConv as GATConvDGL, GraphConv, ChebConv as ChebConvDGL, \\\n",
    "    AGNNConv as AGNNConvDGL, APPNPConv\n",
    "from torch.nn import Dropout, ELU, Sequential, Linear, ReLU\n",
    "import torch.nn.functional as F\n",
    "from BGNN import BGNNPredictor\n",
    "import pandas as pd\n",
    "import numpy as np\n",
    "import json \n",
    "import os\n",
    "import networkx as nx\n",
    "import dgl\n",
    "from dgl.data.utils import save_graphs, load_graphs"
   ]
  },
  {
   "cell_type": "code",
   "execution_count": 185,
   "id": "north-polymer",
   "metadata": {
    "ExecuteTime": {
     "end_time": "2021-03-11T13:19:47.632670Z",
     "start_time": "2021-03-11T13:19:47.630278Z"
    }
   },
   "outputs": [],
   "source": [
    "from dgl.nn.pytorch import GATConv as GATConvDGL, GraphConv, ChebConv as ChebConvDGL, \\\n",
    "    AGNNConv as AGNNConvDGL, APPNPConv\n",
    "from torch.nn import Dropout, ELU, Sequential, Linear, ReLU\n",
    "import torch.nn.functional as F"
   ]
  },
  {
   "cell_type": "code",
   "execution_count": 186,
   "id": "funded-benchmark",
   "metadata": {
    "ExecuteTime": {
     "end_time": "2021-03-11T13:19:47.982247Z",
     "start_time": "2021-03-11T13:19:47.971810Z"
    }
   },
   "outputs": [],
   "source": [
    "class GNNModelDGL(torch.nn.Module):\n",
    "    def __init__(self, in_dim, hidden_dim, out_dim,\n",
    "                 dropout=0., name='gat', residual=True, use_mlp=False, join_with_mlp=False):\n",
    "        super(GNNModelDGL, self).__init__()\n",
    "        self.name = name\n",
    "        self.use_mlp = use_mlp\n",
    "        self.join_with_mlp = join_with_mlp\n",
    "        self.normalize_input_columns = True\n",
    "        if name == 'gat':\n",
    "            self.l1 = GATConvDGL(in_dim, hidden_dim//8, 8, feat_drop=dropout, attn_drop=dropout, residual=False,\n",
    "                              activation=F.elu)\n",
    "            self.l2 = GATConvDGL(hidden_dim, out_dim, 1, feat_drop=dropout, attn_drop=dropout, residual=residual, activation=None)\n",
    "        elif name == 'gcn':\n",
    "            self.l1 = GraphConv(in_dim, hidden_dim, activation=F.elu)\n",
    "            self.l2 = GraphConv(hidden_dim, out_dim, activation=F.elu)\n",
    "            self.drop = Dropout(p=dropout)\n",
    "        elif name == 'cheb':\n",
    "            self.l1 = ChebConvDGL(in_dim, hidden_dim, k = 3)\n",
    "            self.l2 = ChebConvDGL(hidden_dim, out_dim, k = 3)\n",
    "            self.drop = Dropout(p=dropout)\n",
    "        elif name == 'agnn':\n",
    "            self.lin1 = Sequential(Dropout(p=dropout), Linear(in_dim, hidden_dim), ELU())\n",
    "            self.l1 = AGNNConvDGL(learn_beta=False)\n",
    "            self.l2 = AGNNConvDGL(learn_beta=True)\n",
    "            self.lin2 = Sequential(Dropout(p=dropout), Linear(hidden_dim, out_dim), ELU())\n",
    "        elif name == 'appnp':\n",
    "            self.lin1 = Sequential(Dropout(p=dropout), Linear(in_dim, hidden_dim),\n",
    "                       ReLU(), Dropout(p=dropout), Linear(hidden_dim, out_dim))\n",
    "            self.l1 = APPNPConv(k=10, alpha=0.1, edge_drop=0.)\n",
    "\n",
    "\n",
    "    def forward(self, graph, features):\n",
    "        h = features\n",
    "        if self.use_mlp:\n",
    "            if self.join_with_mlp:\n",
    "                h = torch.cat((h, self.mlp(features)), 1)\n",
    "            else:\n",
    "                h = self.mlp(features)\n",
    "        if self.name == 'gat':\n",
    "            h = self.l1(graph, h).flatten(1)\n",
    "            logits = self.l2(graph, h).mean(1)\n",
    "        elif self.name in ['appnp']:\n",
    "            h = self.lin1(h)\n",
    "            logits = self.l1(graph, h)\n",
    "        elif self.name == 'agnn':\n",
    "            h = self.lin1(h)\n",
    "            h = self.l1(graph, h)\n",
    "            h = self.l2(graph, h)\n",
    "            logits = self.lin2(h)\n",
    "        elif self.name in ['gcn', 'cheb']:\n",
    "            h = self.drop(h)\n",
    "            h = self.l1(graph, h)\n",
    "            logits = self.l2(graph, h)\n",
    "\n",
    "        return logits\n"
   ]
  },
  {
   "cell_type": "code",
   "execution_count": 309,
   "id": "similar-fight",
   "metadata": {
    "ExecuteTime": {
     "end_time": "2021-03-11T14:10:00.611677Z",
     "start_time": "2021-03-11T14:10:00.609904Z"
    }
   },
   "outputs": [],
   "source": [
    "input_folder = 'datasets/house_class'"
   ]
  },
  {
   "cell_type": "code",
   "execution_count": 291,
   "id": "early-fitness",
   "metadata": {
    "ExecuteTime": {
     "end_time": "2021-03-11T13:59:51.820169Z",
     "start_time": "2021-03-11T13:59:50.314035Z"
    }
   },
   "outputs": [],
   "source": [
    "networkx_graph = nx.read_graphml(f'{input_folder}/graph.graphml')\n",
    "networkx_graph = nx.relabel_nodes(networkx_graph, {str(i): i for i in range(len(networkx_graph))})\n",
    "\n",
    "g = dgl.from_networkx(networkx_graph)\n",
    "save_graphs(f'{input_folder}/graph.dgl', g)"
   ]
  },
  {
   "cell_type": "code",
   "execution_count": 310,
   "id": "brilliant-reflection",
   "metadata": {
    "ExecuteTime": {
     "end_time": "2021-03-11T14:10:01.962624Z",
     "start_time": "2021-03-11T14:10:01.924246Z"
    }
   },
   "outputs": [],
   "source": [
    "X = pd.read_csv(f'{input_folder}/X.csv')\n",
    "y = pd.read_csv(f'{input_folder}/y.csv')\n",
    "\n",
    "categorical_columns = []\n",
    "if os.path.exists(f'{input_folder}/cat_features.txt'):\n",
    "    with open(f'{input_folder}/cat_features.txt') as f:\n",
    "        for line in f:\n",
    "            if line.strip():\n",
    "                categorical_columns.append(line.strip())\n",
    "\n",
    "cat_features = None\n",
    "if categorical_columns:\n",
    "    columns = X.columns\n",
    "    cat_features = np.where(columns.isin(categorical_columns))[0]\n",
    "\n",
    "    for col in list(columns[cat_features]):\n",
    "        X[col] = X[col].astype(str)\n",
    "    \n",
    "gs, _ = load_graphs(f'{input_folder}/graph.dgl')\n",
    "graph = gs[0]\n",
    "\n",
    "with open(f'{input_folder}/masks.json') as f:\n",
    "    masks = json.load(f)\n",
    "    \n",
    "train_mask, val_mask, test_mask = masks['0']['train'], masks['0']['val'], masks['0']['test']\n"
   ]
  },
  {
   "cell_type": "code",
   "execution_count": 314,
   "id": "historic-armor",
   "metadata": {
    "ExecuteTime": {
     "end_time": "2021-03-11T14:10:22.896129Z",
     "start_time": "2021-03-11T14:10:22.890276Z"
    }
   },
   "outputs": [],
   "source": [
    "task = 'classification'\n",
    "hidden_dim = 128\n",
    "trees_per_epoch = 5\n",
    "backprop_per_epoch = 5\n",
    "lr=0.1\n",
    "append_gbdt_pred = False\n",
    "train_input_features = False\n",
    "gbdt_depth=6\n",
    "gbdt_lr=0.1\n",
    "\n",
    "\n",
    "\n",
    "\n",
    "out_dim = y.shape[1] if task == 'regression' else len(set(y.iloc[test_mask, 0]))\n",
    "in_dim = out_dim + X.shape[1] if append_gbdt_pred else out_dim\n",
    "        \n",
    "gnn_model = GNNModelDGL(in_dim, hidden_dim, out_dim)\n"
   ]
  },
  {
   "cell_type": "code",
   "execution_count": 294,
   "id": "excellent-arctic",
   "metadata": {
    "ExecuteTime": {
     "end_time": "2021-03-11T14:00:00.765425Z",
     "start_time": "2021-03-11T13:59:59.417209Z"
    }
   },
   "outputs": [
    {
     "name": "stderr",
     "output_type": "stream",
     "text": [
      "Epoch 00014 | Loss 0.140 | Loss 0.119/0.123/0.113 | Time 0.0807:  14%|█▍        | 14/100 [00:01<00:08, 10.54it/s]"
     ]
    },
    {
     "name": "stdout",
     "output_type": "stream",
     "text": [
      "Best loss at iteration 3: 0.103/0.108/0.099\n"
     ]
    },
    {
     "name": "stderr",
     "output_type": "stream",
     "text": [
      "\n"
     ]
    },
    {
     "data": {
      "application/vnd.plotly.v1+json": {
       "config": {
        "plotlyServerURL": "https://plot.ly"
       },
       "data": [
        {
         "mode": "lines+markers",
         "name": "train",
         "type": "scatter",
         "x": [
          0,
          1,
          2,
          3,
          4,
          5,
          6,
          7,
          8,
          9,
          10,
          11,
          12,
          13,
          14
         ],
         "y": [
          0.19419865310192108,
          0.151215597987175,
          0.14081458747386932,
          0.10287266224622726,
          0.11086948215961456,
          0.10086666792631149,
          0.1274467408657074,
          0.10593575239181519,
          0.10488276928663254,
          0.1105295717716217,
          0.1114729717373848,
          0.10554279386997223,
          0.11405867338180542,
          0.1029173955321312,
          0.11925201117992401
         ]
        },
        {
         "mode": "lines+markers",
         "name": "valid",
         "type": "scatter",
         "x": [
          0,
          1,
          2,
          3,
          4,
          5,
          6,
          7,
          8,
          9,
          10,
          11,
          12,
          13,
          14
         ],
         "y": [
          0.17557036876678467,
          0.13887937366962433,
          0.13048286736011505,
          0.10824397951364517,
          0.12142004817724228,
          0.11420422047376633,
          0.14080917835235596,
          0.12517282366752625,
          0.11759018898010254,
          0.1264689713716507,
          0.12858150899410248,
          0.1296868622303009,
          0.11915438622236252,
          0.12058210372924805,
          0.12270274758338928
         ]
        },
        {
         "mode": "lines+markers",
         "name": "test",
         "type": "scatter",
         "x": [
          0,
          1,
          2,
          3,
          4,
          5,
          6,
          7,
          8,
          9,
          10,
          11,
          12,
          13,
          14
         ],
         "y": [
          0.17002590000629425,
          0.13192622363567352,
          0.12243852019309998,
          0.0985855758190155,
          0.10942214727401733,
          0.10338451713323593,
          0.13125862181186676,
          0.11888004094362259,
          0.10527443885803223,
          0.12184691429138184,
          0.1189107671380043,
          0.11746297031641006,
          0.11306025832891464,
          0.11549881100654602,
          0.11319885402917862
         ]
        }
       ],
       "layout": {
        "font": {
         "size": 40
        },
        "height": 600,
        "template": {
         "data": {
          "bar": [
           {
            "error_x": {
             "color": "#2a3f5f"
            },
            "error_y": {
             "color": "#2a3f5f"
            },
            "marker": {
             "line": {
              "color": "#E5ECF6",
              "width": 0.5
             }
            },
            "type": "bar"
           }
          ],
          "barpolar": [
           {
            "marker": {
             "line": {
              "color": "#E5ECF6",
              "width": 0.5
             }
            },
            "type": "barpolar"
           }
          ],
          "carpet": [
           {
            "aaxis": {
             "endlinecolor": "#2a3f5f",
             "gridcolor": "white",
             "linecolor": "white",
             "minorgridcolor": "white",
             "startlinecolor": "#2a3f5f"
            },
            "baxis": {
             "endlinecolor": "#2a3f5f",
             "gridcolor": "white",
             "linecolor": "white",
             "minorgridcolor": "white",
             "startlinecolor": "#2a3f5f"
            },
            "type": "carpet"
           }
          ],
          "choropleth": [
           {
            "colorbar": {
             "outlinewidth": 0,
             "ticks": ""
            },
            "type": "choropleth"
           }
          ],
          "contour": [
           {
            "colorbar": {
             "outlinewidth": 0,
             "ticks": ""
            },
            "colorscale": [
             [
              0,
              "#0d0887"
             ],
             [
              0.1111111111111111,
              "#46039f"
             ],
             [
              0.2222222222222222,
              "#7201a8"
             ],
             [
              0.3333333333333333,
              "#9c179e"
             ],
             [
              0.4444444444444444,
              "#bd3786"
             ],
             [
              0.5555555555555556,
              "#d8576b"
             ],
             [
              0.6666666666666666,
              "#ed7953"
             ],
             [
              0.7777777777777778,
              "#fb9f3a"
             ],
             [
              0.8888888888888888,
              "#fdca26"
             ],
             [
              1,
              "#f0f921"
             ]
            ],
            "type": "contour"
           }
          ],
          "contourcarpet": [
           {
            "colorbar": {
             "outlinewidth": 0,
             "ticks": ""
            },
            "type": "contourcarpet"
           }
          ],
          "heatmap": [
           {
            "colorbar": {
             "outlinewidth": 0,
             "ticks": ""
            },
            "colorscale": [
             [
              0,
              "#0d0887"
             ],
             [
              0.1111111111111111,
              "#46039f"
             ],
             [
              0.2222222222222222,
              "#7201a8"
             ],
             [
              0.3333333333333333,
              "#9c179e"
             ],
             [
              0.4444444444444444,
              "#bd3786"
             ],
             [
              0.5555555555555556,
              "#d8576b"
             ],
             [
              0.6666666666666666,
              "#ed7953"
             ],
             [
              0.7777777777777778,
              "#fb9f3a"
             ],
             [
              0.8888888888888888,
              "#fdca26"
             ],
             [
              1,
              "#f0f921"
             ]
            ],
            "type": "heatmap"
           }
          ],
          "heatmapgl": [
           {
            "colorbar": {
             "outlinewidth": 0,
             "ticks": ""
            },
            "colorscale": [
             [
              0,
              "#0d0887"
             ],
             [
              0.1111111111111111,
              "#46039f"
             ],
             [
              0.2222222222222222,
              "#7201a8"
             ],
             [
              0.3333333333333333,
              "#9c179e"
             ],
             [
              0.4444444444444444,
              "#bd3786"
             ],
             [
              0.5555555555555556,
              "#d8576b"
             ],
             [
              0.6666666666666666,
              "#ed7953"
             ],
             [
              0.7777777777777778,
              "#fb9f3a"
             ],
             [
              0.8888888888888888,
              "#fdca26"
             ],
             [
              1,
              "#f0f921"
             ]
            ],
            "type": "heatmapgl"
           }
          ],
          "histogram": [
           {
            "marker": {
             "colorbar": {
              "outlinewidth": 0,
              "ticks": ""
             }
            },
            "type": "histogram"
           }
          ],
          "histogram2d": [
           {
            "colorbar": {
             "outlinewidth": 0,
             "ticks": ""
            },
            "colorscale": [
             [
              0,
              "#0d0887"
             ],
             [
              0.1111111111111111,
              "#46039f"
             ],
             [
              0.2222222222222222,
              "#7201a8"
             ],
             [
              0.3333333333333333,
              "#9c179e"
             ],
             [
              0.4444444444444444,
              "#bd3786"
             ],
             [
              0.5555555555555556,
              "#d8576b"
             ],
             [
              0.6666666666666666,
              "#ed7953"
             ],
             [
              0.7777777777777778,
              "#fb9f3a"
             ],
             [
              0.8888888888888888,
              "#fdca26"
             ],
             [
              1,
              "#f0f921"
             ]
            ],
            "type": "histogram2d"
           }
          ],
          "histogram2dcontour": [
           {
            "colorbar": {
             "outlinewidth": 0,
             "ticks": ""
            },
            "colorscale": [
             [
              0,
              "#0d0887"
             ],
             [
              0.1111111111111111,
              "#46039f"
             ],
             [
              0.2222222222222222,
              "#7201a8"
             ],
             [
              0.3333333333333333,
              "#9c179e"
             ],
             [
              0.4444444444444444,
              "#bd3786"
             ],
             [
              0.5555555555555556,
              "#d8576b"
             ],
             [
              0.6666666666666666,
              "#ed7953"
             ],
             [
              0.7777777777777778,
              "#fb9f3a"
             ],
             [
              0.8888888888888888,
              "#fdca26"
             ],
             [
              1,
              "#f0f921"
             ]
            ],
            "type": "histogram2dcontour"
           }
          ],
          "mesh3d": [
           {
            "colorbar": {
             "outlinewidth": 0,
             "ticks": ""
            },
            "type": "mesh3d"
           }
          ],
          "parcoords": [
           {
            "line": {
             "colorbar": {
              "outlinewidth": 0,
              "ticks": ""
             }
            },
            "type": "parcoords"
           }
          ],
          "pie": [
           {
            "automargin": true,
            "type": "pie"
           }
          ],
          "scatter": [
           {
            "marker": {
             "colorbar": {
              "outlinewidth": 0,
              "ticks": ""
             }
            },
            "type": "scatter"
           }
          ],
          "scatter3d": [
           {
            "line": {
             "colorbar": {
              "outlinewidth": 0,
              "ticks": ""
             }
            },
            "marker": {
             "colorbar": {
              "outlinewidth": 0,
              "ticks": ""
             }
            },
            "type": "scatter3d"
           }
          ],
          "scattercarpet": [
           {
            "marker": {
             "colorbar": {
              "outlinewidth": 0,
              "ticks": ""
             }
            },
            "type": "scattercarpet"
           }
          ],
          "scattergeo": [
           {
            "marker": {
             "colorbar": {
              "outlinewidth": 0,
              "ticks": ""
             }
            },
            "type": "scattergeo"
           }
          ],
          "scattergl": [
           {
            "marker": {
             "colorbar": {
              "outlinewidth": 0,
              "ticks": ""
             }
            },
            "type": "scattergl"
           }
          ],
          "scattermapbox": [
           {
            "marker": {
             "colorbar": {
              "outlinewidth": 0,
              "ticks": ""
             }
            },
            "type": "scattermapbox"
           }
          ],
          "scatterpolar": [
           {
            "marker": {
             "colorbar": {
              "outlinewidth": 0,
              "ticks": ""
             }
            },
            "type": "scatterpolar"
           }
          ],
          "scatterpolargl": [
           {
            "marker": {
             "colorbar": {
              "outlinewidth": 0,
              "ticks": ""
             }
            },
            "type": "scatterpolargl"
           }
          ],
          "scatterternary": [
           {
            "marker": {
             "colorbar": {
              "outlinewidth": 0,
              "ticks": ""
             }
            },
            "type": "scatterternary"
           }
          ],
          "surface": [
           {
            "colorbar": {
             "outlinewidth": 0,
             "ticks": ""
            },
            "colorscale": [
             [
              0,
              "#0d0887"
             ],
             [
              0.1111111111111111,
              "#46039f"
             ],
             [
              0.2222222222222222,
              "#7201a8"
             ],
             [
              0.3333333333333333,
              "#9c179e"
             ],
             [
              0.4444444444444444,
              "#bd3786"
             ],
             [
              0.5555555555555556,
              "#d8576b"
             ],
             [
              0.6666666666666666,
              "#ed7953"
             ],
             [
              0.7777777777777778,
              "#fb9f3a"
             ],
             [
              0.8888888888888888,
              "#fdca26"
             ],
             [
              1,
              "#f0f921"
             ]
            ],
            "type": "surface"
           }
          ],
          "table": [
           {
            "cells": {
             "fill": {
              "color": "#EBF0F8"
             },
             "line": {
              "color": "white"
             }
            },
            "header": {
             "fill": {
              "color": "#C8D4E3"
             },
             "line": {
              "color": "white"
             }
            },
            "type": "table"
           }
          ]
         },
         "layout": {
          "annotationdefaults": {
           "arrowcolor": "#2a3f5f",
           "arrowhead": 0,
           "arrowwidth": 1
          },
          "autotypenumbers": "strict",
          "coloraxis": {
           "colorbar": {
            "outlinewidth": 0,
            "ticks": ""
           }
          },
          "colorscale": {
           "diverging": [
            [
             0,
             "#8e0152"
            ],
            [
             0.1,
             "#c51b7d"
            ],
            [
             0.2,
             "#de77ae"
            ],
            [
             0.3,
             "#f1b6da"
            ],
            [
             0.4,
             "#fde0ef"
            ],
            [
             0.5,
             "#f7f7f7"
            ],
            [
             0.6,
             "#e6f5d0"
            ],
            [
             0.7,
             "#b8e186"
            ],
            [
             0.8,
             "#7fbc41"
            ],
            [
             0.9,
             "#4d9221"
            ],
            [
             1,
             "#276419"
            ]
           ],
           "sequential": [
            [
             0,
             "#0d0887"
            ],
            [
             0.1111111111111111,
             "#46039f"
            ],
            [
             0.2222222222222222,
             "#7201a8"
            ],
            [
             0.3333333333333333,
             "#9c179e"
            ],
            [
             0.4444444444444444,
             "#bd3786"
            ],
            [
             0.5555555555555556,
             "#d8576b"
            ],
            [
             0.6666666666666666,
             "#ed7953"
            ],
            [
             0.7777777777777778,
             "#fb9f3a"
            ],
            [
             0.8888888888888888,
             "#fdca26"
            ],
            [
             1,
             "#f0f921"
            ]
           ],
           "sequentialminus": [
            [
             0,
             "#0d0887"
            ],
            [
             0.1111111111111111,
             "#46039f"
            ],
            [
             0.2222222222222222,
             "#7201a8"
            ],
            [
             0.3333333333333333,
             "#9c179e"
            ],
            [
             0.4444444444444444,
             "#bd3786"
            ],
            [
             0.5555555555555556,
             "#d8576b"
            ],
            [
             0.6666666666666666,
             "#ed7953"
            ],
            [
             0.7777777777777778,
             "#fb9f3a"
            ],
            [
             0.8888888888888888,
             "#fdca26"
            ],
            [
             1,
             "#f0f921"
            ]
           ]
          },
          "colorway": [
           "#636efa",
           "#EF553B",
           "#00cc96",
           "#ab63fa",
           "#FFA15A",
           "#19d3f3",
           "#FF6692",
           "#B6E880",
           "#FF97FF",
           "#FECB52"
          ],
          "font": {
           "color": "#2a3f5f"
          },
          "geo": {
           "bgcolor": "white",
           "lakecolor": "white",
           "landcolor": "#E5ECF6",
           "showlakes": true,
           "showland": true,
           "subunitcolor": "white"
          },
          "hoverlabel": {
           "align": "left"
          },
          "hovermode": "closest",
          "mapbox": {
           "style": "light"
          },
          "paper_bgcolor": "white",
          "plot_bgcolor": "#E5ECF6",
          "polar": {
           "angularaxis": {
            "gridcolor": "white",
            "linecolor": "white",
            "ticks": ""
           },
           "bgcolor": "#E5ECF6",
           "radialaxis": {
            "gridcolor": "white",
            "linecolor": "white",
            "ticks": ""
           }
          },
          "scene": {
           "xaxis": {
            "backgroundcolor": "#E5ECF6",
            "gridcolor": "white",
            "gridwidth": 2,
            "linecolor": "white",
            "showbackground": true,
            "ticks": "",
            "zerolinecolor": "white"
           },
           "yaxis": {
            "backgroundcolor": "#E5ECF6",
            "gridcolor": "white",
            "gridwidth": 2,
            "linecolor": "white",
            "showbackground": true,
            "ticks": "",
            "zerolinecolor": "white"
           },
           "zaxis": {
            "backgroundcolor": "#E5ECF6",
            "gridcolor": "white",
            "gridwidth": 2,
            "linecolor": "white",
            "showbackground": true,
            "ticks": "",
            "zerolinecolor": "white"
           }
          },
          "shapedefaults": {
           "line": {
            "color": "#2a3f5f"
           }
          },
          "ternary": {
           "aaxis": {
            "gridcolor": "white",
            "linecolor": "white",
            "ticks": ""
           },
           "baxis": {
            "gridcolor": "white",
            "linecolor": "white",
            "ticks": ""
           },
           "bgcolor": "#E5ECF6",
           "caxis": {
            "gridcolor": "white",
            "linecolor": "white",
            "ticks": ""
           }
          },
          "title": {
           "x": 0.05
          },
          "xaxis": {
           "automargin": true,
           "gridcolor": "white",
           "linecolor": "white",
           "ticks": "",
           "title": {
            "standoff": 15
           },
           "zerolinecolor": "white",
           "zerolinewidth": 2
          },
          "yaxis": {
           "automargin": true,
           "gridcolor": "white",
           "linecolor": "white",
           "ticks": "",
           "title": {
            "standoff": 15
           },
           "zerolinecolor": "white",
           "zerolinewidth": 2
          }
         }
        },
        "title": {
         "text": "Avazu",
         "x": 0.5
        },
        "xaxis": {
         "title": {
          "text": "Epoch"
         }
        },
        "yaxis": {
         "title": {
          "text": "loss"
         }
        }
       }
      },
      "text/html": [
       "<div>                            <div id=\"c93e46b7-635c-481b-975c-e06a5719a5a7\" class=\"plotly-graph-div\" style=\"height:600px; width:100%;\"></div>            <script type=\"text/javascript\">                require([\"plotly\"], function(Plotly) {                    window.PLOTLYENV=window.PLOTLYENV || {};                                    if (document.getElementById(\"c93e46b7-635c-481b-975c-e06a5719a5a7\")) {                    Plotly.newPlot(                        \"c93e46b7-635c-481b-975c-e06a5719a5a7\",                        [{\"mode\": \"lines+markers\", \"name\": \"train\", \"type\": \"scatter\", \"x\": [0, 1, 2, 3, 4, 5, 6, 7, 8, 9, 10, 11, 12, 13, 14], \"y\": [0.19419865310192108, 0.151215597987175, 0.14081458747386932, 0.10287266224622726, 0.11086948215961456, 0.10086666792631149, 0.1274467408657074, 0.10593575239181519, 0.10488276928663254, 0.1105295717716217, 0.1114729717373848, 0.10554279386997223, 0.11405867338180542, 0.1029173955321312, 0.11925201117992401]}, {\"mode\": \"lines+markers\", \"name\": \"valid\", \"type\": \"scatter\", \"x\": [0, 1, 2, 3, 4, 5, 6, 7, 8, 9, 10, 11, 12, 13, 14], \"y\": [0.17557036876678467, 0.13887937366962433, 0.13048286736011505, 0.10824397951364517, 0.12142004817724228, 0.11420422047376633, 0.14080917835235596, 0.12517282366752625, 0.11759018898010254, 0.1264689713716507, 0.12858150899410248, 0.1296868622303009, 0.11915438622236252, 0.12058210372924805, 0.12270274758338928]}, {\"mode\": \"lines+markers\", \"name\": \"test\", \"type\": \"scatter\", \"x\": [0, 1, 2, 3, 4, 5, 6, 7, 8, 9, 10, 11, 12, 13, 14], \"y\": [0.17002590000629425, 0.13192622363567352, 0.12243852019309998, 0.0985855758190155, 0.10942214727401733, 0.10338451713323593, 0.13125862181186676, 0.11888004094362259, 0.10527443885803223, 0.12184691429138184, 0.1189107671380043, 0.11746297031641006, 0.11306025832891464, 0.11549881100654602, 0.11319885402917862]}],                        {\"font\": {\"size\": 40}, \"height\": 600, \"template\": {\"data\": {\"bar\": [{\"error_x\": {\"color\": \"#2a3f5f\"}, \"error_y\": {\"color\": \"#2a3f5f\"}, \"marker\": {\"line\": {\"color\": \"#E5ECF6\", \"width\": 0.5}}, \"type\": \"bar\"}], \"barpolar\": [{\"marker\": {\"line\": {\"color\": \"#E5ECF6\", \"width\": 0.5}}, \"type\": \"barpolar\"}], \"carpet\": [{\"aaxis\": {\"endlinecolor\": \"#2a3f5f\", \"gridcolor\": \"white\", \"linecolor\": \"white\", \"minorgridcolor\": \"white\", \"startlinecolor\": \"#2a3f5f\"}, \"baxis\": {\"endlinecolor\": \"#2a3f5f\", \"gridcolor\": \"white\", \"linecolor\": \"white\", \"minorgridcolor\": \"white\", \"startlinecolor\": \"#2a3f5f\"}, \"type\": \"carpet\"}], \"choropleth\": [{\"colorbar\": {\"outlinewidth\": 0, \"ticks\": \"\"}, \"type\": \"choropleth\"}], \"contour\": [{\"colorbar\": {\"outlinewidth\": 0, \"ticks\": \"\"}, \"colorscale\": [[0.0, \"#0d0887\"], [0.1111111111111111, \"#46039f\"], [0.2222222222222222, \"#7201a8\"], [0.3333333333333333, \"#9c179e\"], [0.4444444444444444, \"#bd3786\"], [0.5555555555555556, \"#d8576b\"], [0.6666666666666666, \"#ed7953\"], [0.7777777777777778, \"#fb9f3a\"], [0.8888888888888888, \"#fdca26\"], [1.0, \"#f0f921\"]], \"type\": \"contour\"}], \"contourcarpet\": [{\"colorbar\": {\"outlinewidth\": 0, \"ticks\": \"\"}, \"type\": \"contourcarpet\"}], \"heatmap\": [{\"colorbar\": {\"outlinewidth\": 0, \"ticks\": \"\"}, \"colorscale\": [[0.0, \"#0d0887\"], [0.1111111111111111, \"#46039f\"], [0.2222222222222222, \"#7201a8\"], [0.3333333333333333, \"#9c179e\"], [0.4444444444444444, \"#bd3786\"], [0.5555555555555556, \"#d8576b\"], [0.6666666666666666, \"#ed7953\"], [0.7777777777777778, \"#fb9f3a\"], [0.8888888888888888, \"#fdca26\"], [1.0, \"#f0f921\"]], \"type\": \"heatmap\"}], \"heatmapgl\": [{\"colorbar\": {\"outlinewidth\": 0, \"ticks\": \"\"}, \"colorscale\": [[0.0, \"#0d0887\"], [0.1111111111111111, \"#46039f\"], [0.2222222222222222, \"#7201a8\"], [0.3333333333333333, \"#9c179e\"], [0.4444444444444444, \"#bd3786\"], [0.5555555555555556, \"#d8576b\"], [0.6666666666666666, \"#ed7953\"], [0.7777777777777778, \"#fb9f3a\"], [0.8888888888888888, \"#fdca26\"], [1.0, \"#f0f921\"]], \"type\": \"heatmapgl\"}], \"histogram\": [{\"marker\": {\"colorbar\": {\"outlinewidth\": 0, \"ticks\": \"\"}}, \"type\": \"histogram\"}], \"histogram2d\": [{\"colorbar\": {\"outlinewidth\": 0, \"ticks\": \"\"}, \"colorscale\": [[0.0, \"#0d0887\"], [0.1111111111111111, \"#46039f\"], [0.2222222222222222, \"#7201a8\"], [0.3333333333333333, \"#9c179e\"], [0.4444444444444444, \"#bd3786\"], [0.5555555555555556, \"#d8576b\"], [0.6666666666666666, \"#ed7953\"], [0.7777777777777778, \"#fb9f3a\"], [0.8888888888888888, \"#fdca26\"], [1.0, \"#f0f921\"]], \"type\": \"histogram2d\"}], \"histogram2dcontour\": [{\"colorbar\": {\"outlinewidth\": 0, \"ticks\": \"\"}, \"colorscale\": [[0.0, \"#0d0887\"], [0.1111111111111111, \"#46039f\"], [0.2222222222222222, \"#7201a8\"], [0.3333333333333333, \"#9c179e\"], [0.4444444444444444, \"#bd3786\"], [0.5555555555555556, \"#d8576b\"], [0.6666666666666666, \"#ed7953\"], [0.7777777777777778, \"#fb9f3a\"], [0.8888888888888888, \"#fdca26\"], [1.0, \"#f0f921\"]], \"type\": \"histogram2dcontour\"}], \"mesh3d\": [{\"colorbar\": {\"outlinewidth\": 0, \"ticks\": \"\"}, \"type\": \"mesh3d\"}], \"parcoords\": [{\"line\": {\"colorbar\": {\"outlinewidth\": 0, \"ticks\": \"\"}}, \"type\": \"parcoords\"}], \"pie\": [{\"automargin\": true, \"type\": \"pie\"}], \"scatter\": [{\"marker\": {\"colorbar\": {\"outlinewidth\": 0, \"ticks\": \"\"}}, \"type\": \"scatter\"}], \"scatter3d\": [{\"line\": {\"colorbar\": {\"outlinewidth\": 0, \"ticks\": \"\"}}, \"marker\": {\"colorbar\": {\"outlinewidth\": 0, \"ticks\": \"\"}}, \"type\": \"scatter3d\"}], \"scattercarpet\": [{\"marker\": {\"colorbar\": {\"outlinewidth\": 0, \"ticks\": \"\"}}, \"type\": \"scattercarpet\"}], \"scattergeo\": [{\"marker\": {\"colorbar\": {\"outlinewidth\": 0, \"ticks\": \"\"}}, \"type\": \"scattergeo\"}], \"scattergl\": [{\"marker\": {\"colorbar\": {\"outlinewidth\": 0, \"ticks\": \"\"}}, \"type\": \"scattergl\"}], \"scattermapbox\": [{\"marker\": {\"colorbar\": {\"outlinewidth\": 0, \"ticks\": \"\"}}, \"type\": \"scattermapbox\"}], \"scatterpolar\": [{\"marker\": {\"colorbar\": {\"outlinewidth\": 0, \"ticks\": \"\"}}, \"type\": \"scatterpolar\"}], \"scatterpolargl\": [{\"marker\": {\"colorbar\": {\"outlinewidth\": 0, \"ticks\": \"\"}}, \"type\": \"scatterpolargl\"}], \"scatterternary\": [{\"marker\": {\"colorbar\": {\"outlinewidth\": 0, \"ticks\": \"\"}}, \"type\": \"scatterternary\"}], \"surface\": [{\"colorbar\": {\"outlinewidth\": 0, \"ticks\": \"\"}, \"colorscale\": [[0.0, \"#0d0887\"], [0.1111111111111111, \"#46039f\"], [0.2222222222222222, \"#7201a8\"], [0.3333333333333333, \"#9c179e\"], [0.4444444444444444, \"#bd3786\"], [0.5555555555555556, \"#d8576b\"], [0.6666666666666666, \"#ed7953\"], [0.7777777777777778, \"#fb9f3a\"], [0.8888888888888888, \"#fdca26\"], [1.0, \"#f0f921\"]], \"type\": \"surface\"}], \"table\": [{\"cells\": {\"fill\": {\"color\": \"#EBF0F8\"}, \"line\": {\"color\": \"white\"}}, \"header\": {\"fill\": {\"color\": \"#C8D4E3\"}, \"line\": {\"color\": \"white\"}}, \"type\": \"table\"}]}, \"layout\": {\"annotationdefaults\": {\"arrowcolor\": \"#2a3f5f\", \"arrowhead\": 0, \"arrowwidth\": 1}, \"autotypenumbers\": \"strict\", \"coloraxis\": {\"colorbar\": {\"outlinewidth\": 0, \"ticks\": \"\"}}, \"colorscale\": {\"diverging\": [[0, \"#8e0152\"], [0.1, \"#c51b7d\"], [0.2, \"#de77ae\"], [0.3, \"#f1b6da\"], [0.4, \"#fde0ef\"], [0.5, \"#f7f7f7\"], [0.6, \"#e6f5d0\"], [0.7, \"#b8e186\"], [0.8, \"#7fbc41\"], [0.9, \"#4d9221\"], [1, \"#276419\"]], \"sequential\": [[0.0, \"#0d0887\"], [0.1111111111111111, \"#46039f\"], [0.2222222222222222, \"#7201a8\"], [0.3333333333333333, \"#9c179e\"], [0.4444444444444444, \"#bd3786\"], [0.5555555555555556, \"#d8576b\"], [0.6666666666666666, \"#ed7953\"], [0.7777777777777778, \"#fb9f3a\"], [0.8888888888888888, \"#fdca26\"], [1.0, \"#f0f921\"]], \"sequentialminus\": [[0.0, \"#0d0887\"], [0.1111111111111111, \"#46039f\"], [0.2222222222222222, \"#7201a8\"], [0.3333333333333333, \"#9c179e\"], [0.4444444444444444, \"#bd3786\"], [0.5555555555555556, \"#d8576b\"], [0.6666666666666666, \"#ed7953\"], [0.7777777777777778, \"#fb9f3a\"], [0.8888888888888888, \"#fdca26\"], [1.0, \"#f0f921\"]]}, \"colorway\": [\"#636efa\", \"#EF553B\", \"#00cc96\", \"#ab63fa\", \"#FFA15A\", \"#19d3f3\", \"#FF6692\", \"#B6E880\", \"#FF97FF\", \"#FECB52\"], \"font\": {\"color\": \"#2a3f5f\"}, \"geo\": {\"bgcolor\": \"white\", \"lakecolor\": \"white\", \"landcolor\": \"#E5ECF6\", \"showlakes\": true, \"showland\": true, \"subunitcolor\": \"white\"}, \"hoverlabel\": {\"align\": \"left\"}, \"hovermode\": \"closest\", \"mapbox\": {\"style\": \"light\"}, \"paper_bgcolor\": \"white\", \"plot_bgcolor\": \"#E5ECF6\", \"polar\": {\"angularaxis\": {\"gridcolor\": \"white\", \"linecolor\": \"white\", \"ticks\": \"\"}, \"bgcolor\": \"#E5ECF6\", \"radialaxis\": {\"gridcolor\": \"white\", \"linecolor\": \"white\", \"ticks\": \"\"}}, \"scene\": {\"xaxis\": {\"backgroundcolor\": \"#E5ECF6\", \"gridcolor\": \"white\", \"gridwidth\": 2, \"linecolor\": \"white\", \"showbackground\": true, \"ticks\": \"\", \"zerolinecolor\": \"white\"}, \"yaxis\": {\"backgroundcolor\": \"#E5ECF6\", \"gridcolor\": \"white\", \"gridwidth\": 2, \"linecolor\": \"white\", \"showbackground\": true, \"ticks\": \"\", \"zerolinecolor\": \"white\"}, \"zaxis\": {\"backgroundcolor\": \"#E5ECF6\", \"gridcolor\": \"white\", \"gridwidth\": 2, \"linecolor\": \"white\", \"showbackground\": true, \"ticks\": \"\", \"zerolinecolor\": \"white\"}}, \"shapedefaults\": {\"line\": {\"color\": \"#2a3f5f\"}}, \"ternary\": {\"aaxis\": {\"gridcolor\": \"white\", \"linecolor\": \"white\", \"ticks\": \"\"}, \"baxis\": {\"gridcolor\": \"white\", \"linecolor\": \"white\", \"ticks\": \"\"}, \"bgcolor\": \"#E5ECF6\", \"caxis\": {\"gridcolor\": \"white\", \"linecolor\": \"white\", \"ticks\": \"\"}}, \"title\": {\"x\": 0.05}, \"xaxis\": {\"automargin\": true, \"gridcolor\": \"white\", \"linecolor\": \"white\", \"ticks\": \"\", \"title\": {\"standoff\": 15}, \"zerolinecolor\": \"white\", \"zerolinewidth\": 2}, \"yaxis\": {\"automargin\": true, \"gridcolor\": \"white\", \"linecolor\": \"white\", \"ticks\": \"\", \"title\": {\"standoff\": 15}, \"zerolinecolor\": \"white\", \"zerolinewidth\": 2}}}, \"title\": {\"text\": \"Avazu\", \"x\": 0.5}, \"xaxis\": {\"title\": {\"text\": \"Epoch\"}}, \"yaxis\": {\"title\": {\"text\": \"loss\"}}},                        {\"responsive\": true}                    ).then(function(){\n",
       "                            \n",
       "var gd = document.getElementById('c93e46b7-635c-481b-975c-e06a5719a5a7');\n",
       "var x = new MutationObserver(function (mutations, observer) {{\n",
       "        var display = window.getComputedStyle(gd).display;\n",
       "        if (!display || display === 'none') {{\n",
       "            console.log([gd, 'removed!']);\n",
       "            Plotly.purge(gd);\n",
       "            observer.disconnect();\n",
       "        }}\n",
       "}});\n",
       "\n",
       "// Listen for the removal of the full notebook cells\n",
       "var notebookContainer = gd.closest('#notebook-container');\n",
       "if (notebookContainer) {{\n",
       "    x.observe(notebookContainer, {childList: true});\n",
       "}}\n",
       "\n",
       "// Listen for the clearing of the current output cell\n",
       "var outputEl = gd.closest('.output');\n",
       "if (outputEl) {{\n",
       "    x.observe(outputEl, {childList: true});\n",
       "}}\n",
       "\n",
       "                        })                };                });            </script>        </div>"
      ]
     },
     "metadata": {},
     "output_type": "display_data"
    }
   ],
   "source": [
    "import BGNN \n",
    "import sys\n",
    "import importlib\n",
    "importlib.reload(sys.modules['BGNN'])\n",
    "from BGNN import BGNNPredictor\n",
    "\n",
    "bgnn = BGNNPredictor(gnn_model, task = task,\n",
    "                 loss_fn = None,\n",
    "                 trees_per_epoch = trees_per_epoch,\n",
    "                 backprop_per_epoch = backprop_per_epoch,\n",
    "                 lr=lr,\n",
    "                 append_gbdt_pred = append_gbdt_pred,\n",
    "                 train_input_features = train_input_features,\n",
    "                 gbdt_depth=gbdt_depth,\n",
    "                 gbdt_lr=gbdt_lr)\n",
    "\n",
    "metrics = bgnn.fit(graph, X, y, train_mask, val_mask, test_mask, cat_features, \n",
    "        num_epochs=100, patience=10, metric_name='loss',\n",
    "            normalize_features=True)\n",
    "\n",
    "bgnn.plot_interactive(metrics, legend=['train', 'valid', 'test'], title='Avazu', metric_name='loss')"
   ]
  },
  {
   "cell_type": "code",
   "execution_count": 315,
   "id": "married-saturn",
   "metadata": {
    "ExecuteTime": {
     "end_time": "2021-03-11T14:10:31.159376Z",
     "start_time": "2021-03-11T14:10:28.872826Z"
    }
   },
   "outputs": [
    {
     "name": "stderr",
     "output_type": "stream",
     "text": [
      "Epoch 00011 | Loss 0.065 | Loss 0.044/4.107/4.172 | Time 0.1813:  11%|█         | 11/100 [00:02<00:17,  4.96it/s]\n"
     ]
    },
    {
     "name": "stdout",
     "output_type": "stream",
     "text": [
      "Best loss at iteration 0: 0.826/1.113/1.088\n"
     ]
    }
   ],
   "source": [
    "import BGNN \n",
    "import sys\n",
    "import importlib\n",
    "importlib.reload(sys.modules['BGNN'])\n",
    "from BGNN import BGNNPredictor\n",
    "\n",
    "bgnn = BGNNPredictor(gnn_model, task = task,\n",
    "                 loss_fn = None,\n",
    "                 trees_per_epoch = trees_per_epoch,\n",
    "                 backprop_per_epoch = backprop_per_epoch,\n",
    "                 lr=lr,\n",
    "                 append_gbdt_pred = append_gbdt_pred,\n",
    "                 train_input_features = train_input_features,\n",
    "                 gbdt_depth=gbdt_depth,\n",
    "                 gbdt_lr=gbdt_lr)\n",
    "\n",
    "metrics = bgnn.fit(graph, X, y, train_mask, val_mask, test_mask, cat_features, \n",
    "        num_epochs=100, patience=10, metric_name='loss',\n",
    "            normalize_features=True)\n",
    "\n",
    "\n",
    "preds = bgnn.predict(graph, X, test_mask)"
   ]
  },
  {
   "cell_type": "code",
   "execution_count": 316,
   "id": "coral-swing",
   "metadata": {
    "ExecuteTime": {
     "end_time": "2021-03-11T14:10:46.826464Z",
     "start_time": "2021-03-11T14:10:46.823319Z"
    }
   },
   "outputs": [
    {
     "data": {
      "text/plain": [
       "tensor([1, 1, 3,  ..., 3, 4, 1], device='cuda:0')"
      ]
     },
     "execution_count": 316,
     "metadata": {},
     "output_type": "execute_result"
    }
   ],
   "source": [
    "preds"
   ]
  },
  {
   "cell_type": "code",
   "execution_count": 163,
   "id": "sunset-workplace",
   "metadata": {
    "ExecuteTime": {
     "end_time": "2021-03-11T11:46:51.363153Z",
     "start_time": "2021-03-11T11:46:51.361269Z"
    }
   },
   "outputs": [],
   "source": [
    "from BGNN import BGNNPredictor"
   ]
  },
  {
   "cell_type": "code",
   "execution_count": null,
   "id": "velvet-interpretation",
   "metadata": {},
   "outputs": [],
   "source": [
    "BGNNPredictor"
   ]
  }
 ],
 "metadata": {
  "hide_input": false,
  "kernelspec": {
   "display_name": "DEFAULT",
   "language": "python",
   "name": "default"
  },
  "language_info": {
   "codemirror_mode": {
    "name": "ipython",
    "version": 3
   },
   "file_extension": ".py",
   "mimetype": "text/x-python",
   "name": "python",
   "nbconvert_exporter": "python",
   "pygments_lexer": "ipython3",
   "version": "3.6.10"
  },
  "toc": {
   "base_numbering": 1,
   "nav_menu": {},
   "number_sections": true,
   "sideBar": true,
   "skip_h1_title": false,
   "title_cell": "Table of Contents",
   "title_sidebar": "Contents",
   "toc_cell": false,
   "toc_position": {},
   "toc_section_display": true,
   "toc_window_display": false
  }
 },
 "nbformat": 4,
 "nbformat_minor": 5
}
